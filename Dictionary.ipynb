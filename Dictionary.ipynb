{
  "nbformat": 4,
  "nbformat_minor": 0,
  "metadata": {
    "colab": {
      "provenance": []
    },
    "kernelspec": {
      "name": "python3",
      "display_name": "Python 3"
    },
    "language_info": {
      "name": "python"
    }
  },
  "cells": [
    {
      "cell_type": "code",
      "execution_count": null,
      "metadata": {
        "colab": {
          "base_uri": "https://localhost:8080/"
        },
        "id": "Rf8D3dilNy6u",
        "outputId": "e1e8a8a2-1d19-4903-f5be-909b31718f40"
      },
      "outputs": [
        {
          "output_type": "stream",
          "name": "stdout",
          "text": [
            "{'brand': 'Ford', 'model': 'mustang', 'year': 1964}\n"
          ]
        }
      ],
      "source": [
        "#Dictionary\n",
        "thisdict={\"brand\":\"Ford\", \"model\":\"mustang\",\"year\":1964 }\n",
        "print(thisdict)\n",
        "\n"
      ]
    },
    {
      "cell_type": "code",
      "source": [
        "#Dictionary (will not allow duplicate value)\n",
        "thisdict={\"brand\":\"Ford\", \"model\":\"mustang\",\"year\":1964,\"brand\":\"Ford\"}\n",
        "print(thisdict)\n"
      ],
      "metadata": {
        "colab": {
          "base_uri": "https://localhost:8080/"
        },
        "id": "5JtW_6EEO7JU",
        "outputId": "425d1110-9353-4444-f1ec-1017731d7be0"
      },
      "execution_count": null,
      "outputs": [
        {
          "output_type": "stream",
          "name": "stdout",
          "text": [
            "{'brand': 'Ford', 'model': 'mustang', 'year': 1964}\n"
          ]
        }
      ]
    },
    {
      "cell_type": "code",
      "source": [
        "#Dictionary\n",
        "thisdict={\"brand\":\"Ford\", \"model\":\"mustang\",\"year\":1964}\n",
        "print(thisdict)\n",
        "print(thisdict.keys())\n",
        "print(thisdict.values())\n",
        "\n"
      ],
      "metadata": {
        "colab": {
          "base_uri": "https://localhost:8080/"
        },
        "id": "b86AScQaPSUE",
        "outputId": "6777136a-2bc1-4e58-de11-99782104e7ee"
      },
      "execution_count": null,
      "outputs": [
        {
          "output_type": "stream",
          "name": "stdout",
          "text": [
            "{'brand': 'Ford', 'model': 'mustang', 'year': 1964}\n",
            "dict_keys(['brand', 'model', 'year'])\n",
            "dict_values(['Ford', 'mustang', 1964])\n"
          ]
        }
      ]
    },
    {
      "cell_type": "code",
      "source": [
        "#Dictionary\n",
        "thisdict={\"brand\":\"Ford\", \"model\":\"mustang\",\"year\":1964}\n",
        "print(thisdict)\n",
        "x=thisdict.keys()\n",
        "y=thisdict.values()\n",
        "print(x)\n",
        "print(y)\n"
      ],
      "metadata": {
        "colab": {
          "base_uri": "https://localhost:8080/"
        },
        "id": "qpIpCrUOXxYi",
        "outputId": "268624bc-9d87-4bce-f6e4-c589497c1c5a"
      },
      "execution_count": null,
      "outputs": [
        {
          "output_type": "stream",
          "name": "stdout",
          "text": [
            "{'brand': 'Ford', 'model': 'mustang', 'year': 1964}\n",
            "dict_keys(['brand', 'model', 'year'])\n",
            "dict_values(['Ford', 'mustang', 1964])\n"
          ]
        }
      ]
    },
    {
      "cell_type": "code",
      "source": [
        "# length in dictionary\n",
        "#Dictionary\n",
        "thisdict={\"brand\":\"Ford\", \"model\":\"mustang\",\"year\":1964}\n",
        "print(len(thisdict))\n",
        "print(type(thisdict))\n"
      ],
      "metadata": {
        "colab": {
          "base_uri": "https://localhost:8080/"
        },
        "id": "TBivvlH2Xx1-",
        "outputId": "323c85c0-2b68-4e40-d21c-3c586bca0ea1"
      },
      "execution_count": null,
      "outputs": [
        {
          "output_type": "stream",
          "name": "stdout",
          "text": [
            "3\n",
            "<class 'dict'>\n"
          ]
        }
      ]
    },
    {
      "cell_type": "code",
      "source": [
        "#accessing item\n",
        "#Dictionary\n",
        "thisdict={\"brand\":\"Ford\", \"model\":\"mustang\",\"year\":1964}\n",
        "print(thisdict[\"model\"])\n",
        "print(thisdict[\"year\"])\n"
      ],
      "metadata": {
        "colab": {
          "base_uri": "https://localhost:8080/"
        },
        "id": "4ueY1ifgYnsi",
        "outputId": "e01a8087-f96e-44ac-be8a-b186e3613d8f"
      },
      "execution_count": null,
      "outputs": [
        {
          "output_type": "stream",
          "name": "stdout",
          "text": [
            "mustang\n",
            "1964\n"
          ]
        }
      ]
    },
    {
      "cell_type": "code",
      "source": [
        "#dictionary constructor (use= instead of :)\n",
        "thisdict=dict(brand=\"Ford\", model=\"mustang\",year=1964)\n",
        "print(thisdict)\n"
      ],
      "metadata": {
        "colab": {
          "base_uri": "https://localhost:8080/"
        },
        "id": "6BZC3n0ZY7m7",
        "outputId": "627666ea-9aac-4db5-c2b9-19490c2b477b"
      },
      "execution_count": null,
      "outputs": [
        {
          "output_type": "stream",
          "name": "stdout",
          "text": [
            "{'brand': 'Ford', 'model': 'mustang', 'year': 1964}\n"
          ]
        }
      ]
    },
    {
      "cell_type": "code",
      "source": [
        "#Accessing item using get function\n",
        "thisdict=dict(brand=\"Ford\", model=\"mustang\",year=1964)\n",
        "print(thisdict.get(\"model\"))\n"
      ],
      "metadata": {
        "colab": {
          "base_uri": "https://localhost:8080/"
        },
        "id": "WDNJDbglZkIT",
        "outputId": "6e440333-2505-4b57-cbc5-41832298d8ef"
      },
      "execution_count": null,
      "outputs": [
        {
          "output_type": "stream",
          "name": "stdout",
          "text": [
            "mustang\n"
          ]
        }
      ]
    },
    {
      "cell_type": "code",
      "source": [
        "#Adding item\n",
        "car={\"brand\":\"Ford\", \"model\":\"mustang\",\"year\":1964}\n",
        "car[\"color\"]=\"white\"\n",
        "print(car)\n"
      ],
      "metadata": {
        "colab": {
          "base_uri": "https://localhost:8080/"
        },
        "id": "fNbMBV9AZzuZ",
        "outputId": "a42f324d-6258-4697-a456-0558fd1765a4"
      },
      "execution_count": null,
      "outputs": [
        {
          "output_type": "stream",
          "name": "stdout",
          "text": [
            "{'brand': 'Ford', 'model': 'mustang', 'year': 1964, 'color': 'white'}\n"
          ]
        }
      ]
    },
    {
      "cell_type": "code",
      "source": [
        "#changing item\n",
        "car={\"brand\":\"Ford\", \"model\":\"mustang\",\"year\":1964}\n",
        "car[\"brand\"]=\"audi\"\n",
        "print(car)\n",
        "\n",
        "{'brand':[\"audi\"]}\n",
        "print(car)\n",
        "\n"
      ],
      "metadata": {
        "colab": {
          "base_uri": "https://localhost:8080/"
        },
        "id": "viUXhrjGaX0v",
        "outputId": "1ba60da3-6bdb-44d5-8ae4-f52b58155b24"
      },
      "execution_count": null,
      "outputs": [
        {
          "output_type": "stream",
          "name": "stdout",
          "text": [
            "{'brand': 'audi', 'model': 'mustang', 'year': 1964}\n",
            "{'brand': 'audi', 'model': 'mustang', 'year': 1964}\n"
          ]
        }
      ]
    },
    {
      "cell_type": "code",
      "source": [
        "#changing item\n",
        "car={\"brand\":\"Ford\", \"model\":\"mustang\",\"year\":1964}\n",
        "{'brand':[\"audi\"]} # Will not change\n",
        "print(car)\n"
      ],
      "metadata": {
        "colab": {
          "base_uri": "https://localhost:8080/"
        },
        "id": "N8ykcXBSaqvp",
        "outputId": "15148bb5-77f7-44e0-b6a0-5adecc3d7740"
      },
      "execution_count": null,
      "outputs": [
        {
          "output_type": "stream",
          "name": "stdout",
          "text": [
            "{'brand': 'Ford', 'model': 'mustang', 'year': 1964}\n"
          ]
        }
      ]
    },
    {
      "cell_type": "code",
      "source": [
        "#if statement in dictionary\n",
        "thisdict={'brand':'Ford','model':\"mustang\",'year':1964}\n",
        "if 'model' in thisdict:\n",
        "  print(\"Yes\",'Model is one of the keys in the thisdict')\n",
        "else:\n",
        "   print('No','Model is not in the thisdict')\n"
      ],
      "metadata": {
        "colab": {
          "base_uri": "https://localhost:8080/"
        },
        "id": "YJerYYApbWS5",
        "outputId": "7622f287-3298-4545-e575-bdce43bf4c24"
      },
      "execution_count": null,
      "outputs": [
        {
          "output_type": "stream",
          "name": "stdout",
          "text": [
            "Yes Model is one of the keys in the thisdict\n"
          ]
        }
      ]
    },
    {
      "cell_type": "code",
      "source": [
        "#update in dictionary\n",
        "thisdict={'brand':'Ford','model':\"mustang\",'year':1964}\n",
        "thisdict.update({'day':2020})\n",
        "print(thisdict)\n"
      ],
      "metadata": {
        "colab": {
          "base_uri": "https://localhost:8080/"
        },
        "id": "eBnaxn7_f1um",
        "outputId": "df9f37a6-8ca0-4ce9-ea5b-8c3e2795f90f"
      },
      "execution_count": null,
      "outputs": [
        {
          "output_type": "stream",
          "name": "stdout",
          "text": [
            "{'brand': 'Ford', 'model': 'mustang', 'year': 1964, 'day': 2020}\n"
          ]
        }
      ]
    },
    {
      "cell_type": "code",
      "source": [
        "#pop(using key)\n",
        "thisdict={'brand':'Ford','model':\"mustang\",'year':1964}\n",
        "thisdict.pop(\"model\")   #need atleast one key\n",
        "print(thisdict)"
      ],
      "metadata": {
        "colab": {
          "base_uri": "https://localhost:8080/"
        },
        "id": "NkmMst4XgtCQ",
        "outputId": "eace3b1e-c98c-4c63-c4f3-d445db4b897f"
      },
      "execution_count": null,
      "outputs": [
        {
          "output_type": "stream",
          "name": "stdout",
          "text": [
            "{'brand': 'Ford', 'year': 1964}\n"
          ]
        }
      ]
    },
    {
      "cell_type": "code",
      "source": [
        "#for loop in dict and giving output key\n",
        "thisdict={'brand':'Ford','model':\"mustang\",'year':1964}\n",
        "for i in thisdict:\n",
        "  print(i)              #key()"
      ],
      "metadata": {
        "colab": {
          "base_uri": "https://localhost:8080/"
        },
        "id": "-SMpqXhmha4h",
        "outputId": "8515c913-26c8-4895-af3f-533ee792d187"
      },
      "execution_count": null,
      "outputs": [
        {
          "output_type": "stream",
          "name": "stdout",
          "text": [
            "brand\n",
            "model\n",
            "year\n"
          ]
        }
      ]
    },
    {
      "cell_type": "code",
      "source": [
        "#for loop in dict and giving output value\n",
        "thisdict={'brand':'Ford','model':\"mustang\",'year':1964}\n",
        "for i in thisdict:\n",
        "  print(thisdict[i])              #value()"
      ],
      "metadata": {
        "colab": {
          "base_uri": "https://localhost:8080/"
        },
        "id": "4sgLc2c-h83F",
        "outputId": "c5dda28d-2d49-49d9-e264-901a8c2a9f72"
      },
      "execution_count": null,
      "outputs": [
        {
          "output_type": "stream",
          "name": "stdout",
          "text": [
            "Ford\n",
            "mustang\n",
            "1964\n"
          ]
        }
      ]
    },
    {
      "cell_type": "code",
      "source": [
        "#for loop in dict value\n",
        "thisdict={'brand':'Ford','model':\"mustang\",'year':1964}\n",
        "for i in thisdict.values():\n",
        "  print(i)              #value()"
      ],
      "metadata": {
        "colab": {
          "base_uri": "https://localhost:8080/"
        },
        "id": "qi_m_OJIiM2h",
        "outputId": "7880a97d-c70e-4e97-edad-78285f158d06"
      },
      "execution_count": null,
      "outputs": [
        {
          "output_type": "stream",
          "name": "stdout",
          "text": [
            "Ford\n",
            "mustang\n",
            "1964\n"
          ]
        }
      ]
    },
    {
      "cell_type": "code",
      "source": [
        "#for loop in dict value\n",
        "thisdict={'brand':'Ford','model':\"mustang\",'year':1964}\n",
        "for i in thisdict.keys():\n",
        "  print(i)              #keys()"
      ],
      "metadata": {
        "colab": {
          "base_uri": "https://localhost:8080/"
        },
        "id": "G5cWBengiwHd",
        "outputId": "0f104065-9020-4ec7-c574-475784fa2252"
      },
      "execution_count": null,
      "outputs": [
        {
          "output_type": "stream",
          "name": "stdout",
          "text": [
            "brand\n",
            "model\n",
            "year\n"
          ]
        }
      ]
    },
    {
      "cell_type": "code",
      "source": [
        "#for loop in dict using items()\n",
        "thisdict={'brand':'Ford','model':\"mustang\",'year':1964}\n",
        "for i,j in thisdict.items():\n",
        "  print(i,j)"
      ],
      "metadata": {
        "id": "vh9yWs4ijQaA",
        "colab": {
          "base_uri": "https://localhost:8080/"
        },
        "outputId": "cb87035a-64f3-4234-ee3c-72df66b81f79"
      },
      "execution_count": null,
      "outputs": [
        {
          "output_type": "stream",
          "name": "stdout",
          "text": [
            "brand Ford\n",
            "model mustang\n",
            "year 1964\n"
          ]
        }
      ]
    },
    {
      "cell_type": "code",
      "source": [
        "#copy in dictionary method1\n",
        "thisdict={'brand':'Ford','model':\"mustang\",'year':1964}\n",
        "mydict=thisdict.copy()\n",
        "print(mydict)"
      ],
      "metadata": {
        "colab": {
          "base_uri": "https://localhost:8080/"
        },
        "id": "uZaQSpEUseoK",
        "outputId": "0371dc46-3f68-4034-e5ce-e1a3ce80d3d4"
      },
      "execution_count": null,
      "outputs": [
        {
          "output_type": "stream",
          "name": "stdout",
          "text": [
            "{'brand': 'Ford', 'model': 'mustang', 'year': 1964}\n"
          ]
        }
      ]
    },
    {
      "cell_type": "code",
      "source": [
        "#copy in dictionary method2\n",
        "thisdict={'brand':'Ford','model':\"mustang\",'year':1964}\n",
        "mydict=thisdict\n",
        "print(mydict)"
      ],
      "metadata": {
        "colab": {
          "base_uri": "https://localhost:8080/"
        },
        "id": "0ScBFr0Ys4dW",
        "outputId": "dcdbd86f-9db2-4a22-a5a8-d749dc43681a"
      },
      "execution_count": null,
      "outputs": [
        {
          "output_type": "stream",
          "name": "stdout",
          "text": [
            "{'brand': 'Ford', 'model': 'mustang', 'year': 1964}\n"
          ]
        }
      ]
    },
    {
      "cell_type": "code",
      "source": [
        "#copy in dictionary method3\n",
        "thisdict={'brand':'Ford','model':\"mustang\",'year':1964}\n",
        "mydict=dict(thisdict)\n",
        "print(mydict)"
      ],
      "metadata": {
        "colab": {
          "base_uri": "https://localhost:8080/"
        },
        "id": "eC6-iFYsteta",
        "outputId": "a064d6aa-4012-4fd9-b62f-6b693be4fb8a"
      },
      "execution_count": null,
      "outputs": [
        {
          "output_type": "stream",
          "name": "stdout",
          "text": [
            "{'brand': 'Ford', 'model': 'mustang', 'year': 1964}\n"
          ]
        }
      ]
    },
    {
      "cell_type": "code",
      "source": [
        "#Nested dictionary method1\n",
        "myfamily={'child1':{'name':'abc','year':2004},\n",
        "          'child2':{'name':'xyz','year':2007},\n",
        "          'child3':{'name':'stu','year':2011}\n",
        "          }\n",
        "print(myfamily)\n"
      ],
      "metadata": {
        "colab": {
          "base_uri": "https://localhost:8080/"
        },
        "id": "2jmsaLO3tv6o",
        "outputId": "3a116164-8257-4746-c278-bbbad3b617b2"
      },
      "execution_count": null,
      "outputs": [
        {
          "output_type": "stream",
          "name": "stdout",
          "text": [
            "{'child1': {'name': 'abc', 'year': 2004}, 'child2': {'name': 'xyz', 'year': 2007}, 'child3': {'name': 'stu', 'year': 2011}}\n"
          ]
        }
      ]
    },
    {
      "cell_type": "code",
      "source": [
        "#Nested dictionary method2\n",
        "child1={'name':'abc','year':2004},\n",
        "child2={'name':'xyz','year':2007},\n",
        "child3={'name':'stu','year':2011}\n",
        "myfamily={\"child1\":child1,\"child2\":child2,\"child3\":child3}\n",
        "print(myfamily)\n"
      ],
      "metadata": {
        "colab": {
          "base_uri": "https://localhost:8080/"
        },
        "id": "OpHWtFY0vrHA",
        "outputId": "29339261-1d0d-49bf-8eb3-7ee15866b111"
      },
      "execution_count": null,
      "outputs": [
        {
          "output_type": "stream",
          "name": "stdout",
          "text": [
            "{'child1': ({'name': 'abc', 'year': 2004},), 'child2': ({'name': 'xyz', 'year': 2007},), 'child3': {'name': 'stu', 'year': 2011}}\n"
          ]
        }
      ]
    },
    {
      "cell_type": "code",
      "source": [
        "#Nested dictionary method3\n",
        "myfamily={'child1':{'name':'abc','year':2004},\n",
        "          'child2':{'name':'xyz','year':2007},\n",
        "          'child3':{'name':'stu','year':2011}\n",
        "          }\n",
        "print(myfamily[\"child1\"][\"name\"])\n",
        "print(myfamily[\"child1\"][\"year\"])"
      ],
      "metadata": {
        "colab": {
          "base_uri": "https://localhost:8080/"
        },
        "id": "Vadjzwi_wdOW",
        "outputId": "e193a3f6-cc33-4fbd-d810-51833b14533a"
      },
      "execution_count": null,
      "outputs": [
        {
          "output_type": "stream",
          "name": "stdout",
          "text": [
            "abc\n",
            "2004\n"
          ]
        }
      ]
    },
    {
      "cell_type": "code",
      "source": [
        "#loop nested and for loop in dictionary\n",
        "myfamily={'child1':{'name':'abc','year':2004},\n",
        "          'child2':{'name':'xyz','year':2007},\n",
        "          'child3':{'name':'stu','year':2011}\n",
        "          }\n",
        "for x,obj in myfamily.items():\n",
        "  print(x)\n",
        "  for y in obj:\n",
        "    print(y+':',obj[y])\n"
      ],
      "metadata": {
        "colab": {
          "base_uri": "https://localhost:8080/"
        },
        "id": "q2vj2mTbxV40",
        "outputId": "03a1f5be-80dc-4851-ed9c-6ad4db3b93be"
      },
      "execution_count": null,
      "outputs": [
        {
          "output_type": "stream",
          "name": "stdout",
          "text": [
            "child1\n",
            "name: abc\n",
            "year: 2004\n",
            "child2\n",
            "name: xyz\n",
            "year: 2007\n",
            "child3\n",
            "name: stu\n",
            "year: 2011\n"
          ]
        }
      ]
    },
    {
      "cell_type": "code",
      "source": [
        "#fromkeys in dictionary\n",
        "x = ('a','b','c')\n",
        "y=\"Alphabets\"\n",
        "#for i in range(y,y+1,10):\n",
        "thisdict = dict.fromkeys(x, y)\n",
        "print(thisdict)\n",
        "  #y=y+1\n"
      ],
      "metadata": {
        "colab": {
          "base_uri": "https://localhost:8080/"
        },
        "id": "me-jfQFTyHGM",
        "outputId": "396cdc43-c13e-4ead-8c8e-0aa20347ac73"
      },
      "execution_count": null,
      "outputs": [
        {
          "output_type": "stream",
          "name": "stdout",
          "text": [
            "{'a': 'Alphabets', 'b': 'Alphabets', 'c': 'Alphabets'}\n"
          ]
        }
      ]
    },
    {
      "cell_type": "code",
      "source": [
        "#set default in dictionary\n",
        "car = {\n",
        "  \"brand\": \"Ford\",\n",
        "  \"model\": \"Mustang\",\n",
        "  \"year\": 1964\n",
        "}\n",
        "\n",
        "x = car.setdefault(\"model\") #to get the value of the given key\n",
        "y = car.setdefault(\"brand\",\"\")\n",
        "z=car.setdefault(\"servicecenter\",\"Trichy\")\n",
        "print(x)\n",
        "print(y)\n",
        "print(z)"
      ],
      "metadata": {
        "colab": {
          "base_uri": "https://localhost:8080/"
        },
        "id": "RSSxxdWjyMV0",
        "outputId": "4f7d853a-c864-4bdb-ebe2-9506170ffce7"
      },
      "execution_count": null,
      "outputs": [
        {
          "output_type": "stream",
          "name": "stdout",
          "text": [
            "Mustang\n",
            "Ford\n",
            "Trichy\n"
          ]
        }
      ]
    }
  ]
}